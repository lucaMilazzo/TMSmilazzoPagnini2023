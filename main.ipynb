{
 "cells": [
  {
   "cell_type": "raw",
   "id": "336ba0fe-9d48-4b79-ad54-8032df470253",
   "metadata": {},
   "source": [
    "TMS project - Group 10: Milazzo L. (856702), Pagnini M. ()"
   ]
  },
  {
   "cell_type": "markdown",
   "id": "f61ec169-be6b-48cc-99be-3969a9d35445",
   "metadata": {},
   "source": [
    "# Libraries and data set"
   ]
  },
  {
   "cell_type": "code",
   "execution_count": 17,
   "id": "c1992229-9b79-4eaf-a385-e1dc6bbb9c01",
   "metadata": {},
   "outputs": [],
   "source": [
    "import pandas as pd\n",
    "import numpy as np\n",
    "import seaborn as sns\n",
    "import matplotlib.pyplot as plt"
   ]
  },
  {
   "cell_type": "code",
   "execution_count": 7,
   "id": "a0dde6ca-9e51-4e6f-ace2-48267d7b6e89",
   "metadata": {},
   "outputs": [],
   "source": [
    "df_train = pd.read_csv(\"./dataset/medical_tc_train.csv\")\n",
    "df_test = pd.read_csv(\"./dataset/medical_tc_test.csv\")\n",
    "df_labels = pd.read_csv(\"./dataset/medical_tc_labels.csv\")"
   ]
  },
  {
   "cell_type": "markdown",
   "id": "439ce7d9-344b-4777-80dc-5dd155112abd",
   "metadata": {},
   "source": [
    "# Data set exploration"
   ]
  },
  {
   "cell_type": "code",
   "execution_count": 8,
   "id": "e20643ce-ab11-4283-8a7b-5c02e4bac442",
   "metadata": {},
   "outputs": [
    {
     "data": {
      "text/html": [
       "<div>\n",
       "<style scoped>\n",
       "    .dataframe tbody tr th:only-of-type {\n",
       "        vertical-align: middle;\n",
       "    }\n",
       "\n",
       "    .dataframe tbody tr th {\n",
       "        vertical-align: top;\n",
       "    }\n",
       "\n",
       "    .dataframe thead th {\n",
       "        text-align: right;\n",
       "    }\n",
       "</style>\n",
       "<table border=\"1\" class=\"dataframe\">\n",
       "  <thead>\n",
       "    <tr style=\"text-align: right;\">\n",
       "      <th></th>\n",
       "      <th>condition_label</th>\n",
       "      <th>medical_abstract</th>\n",
       "    </tr>\n",
       "  </thead>\n",
       "  <tbody>\n",
       "    <tr>\n",
       "      <th>0</th>\n",
       "      <td>5</td>\n",
       "      <td>Tissue changes around loose prostheses. A cani...</td>\n",
       "    </tr>\n",
       "    <tr>\n",
       "      <th>1</th>\n",
       "      <td>1</td>\n",
       "      <td>Neuropeptide Y and neuron-specific enolase lev...</td>\n",
       "    </tr>\n",
       "    <tr>\n",
       "      <th>2</th>\n",
       "      <td>2</td>\n",
       "      <td>Sexually transmitted diseases of the colon, re...</td>\n",
       "    </tr>\n",
       "    <tr>\n",
       "      <th>3</th>\n",
       "      <td>1</td>\n",
       "      <td>Lipolytic factors associated with murine and h...</td>\n",
       "    </tr>\n",
       "    <tr>\n",
       "      <th>4</th>\n",
       "      <td>3</td>\n",
       "      <td>Does carotid restenosis predict an increased r...</td>\n",
       "    </tr>\n",
       "    <tr>\n",
       "      <th>...</th>\n",
       "      <td>...</td>\n",
       "      <td>...</td>\n",
       "    </tr>\n",
       "    <tr>\n",
       "      <th>11545</th>\n",
       "      <td>1</td>\n",
       "      <td>Epirubicin at two dose levels with prednisolon...</td>\n",
       "    </tr>\n",
       "    <tr>\n",
       "      <th>11546</th>\n",
       "      <td>1</td>\n",
       "      <td>Four and a half year follow up of women with d...</td>\n",
       "    </tr>\n",
       "    <tr>\n",
       "      <th>11547</th>\n",
       "      <td>5</td>\n",
       "      <td>Safety of the transbronchial biopsy in outpati...</td>\n",
       "    </tr>\n",
       "    <tr>\n",
       "      <th>11548</th>\n",
       "      <td>3</td>\n",
       "      <td>Interictal spikes and hippocampal somatostatin...</td>\n",
       "    </tr>\n",
       "    <tr>\n",
       "      <th>11549</th>\n",
       "      <td>5</td>\n",
       "      <td>Recurrent thoracic outlet syndrome after first...</td>\n",
       "    </tr>\n",
       "  </tbody>\n",
       "</table>\n",
       "<p>11550 rows × 2 columns</p>\n",
       "</div>"
      ],
      "text/plain": [
       "       condition_label                                   medical_abstract\n",
       "0                    5  Tissue changes around loose prostheses. A cani...\n",
       "1                    1  Neuropeptide Y and neuron-specific enolase lev...\n",
       "2                    2  Sexually transmitted diseases of the colon, re...\n",
       "3                    1  Lipolytic factors associated with murine and h...\n",
       "4                    3  Does carotid restenosis predict an increased r...\n",
       "...                ...                                                ...\n",
       "11545                1  Epirubicin at two dose levels with prednisolon...\n",
       "11546                1  Four and a half year follow up of women with d...\n",
       "11547                5  Safety of the transbronchial biopsy in outpati...\n",
       "11548                3  Interictal spikes and hippocampal somatostatin...\n",
       "11549                5  Recurrent thoracic outlet syndrome after first...\n",
       "\n",
       "[11550 rows x 2 columns]"
      ]
     },
     "execution_count": 8,
     "metadata": {},
     "output_type": "execute_result"
    }
   ],
   "source": [
    "df_train"
   ]
  },
  {
   "cell_type": "code",
   "execution_count": 13,
   "id": "5c753419-c3b0-47ad-bbed-be44cebc020a",
   "metadata": {},
   "outputs": [
    {
     "data": {
      "text/plain": [
       "5    33.281385\n",
       "1    21.904762\n",
       "4    21.134199\n",
       "3    13.333333\n",
       "2    10.346320\n",
       "Name: condition_label, dtype: float64"
      ]
     },
     "execution_count": 13,
     "metadata": {},
     "output_type": "execute_result"
    }
   ],
   "source": [
    "df_train[\"condition_label\"].value_counts()/df_train.shape[0]*100"
   ]
  },
  {
   "cell_type": "code",
   "execution_count": 15,
   "id": "6f98474e-fffd-421e-843a-a153ee1c6a1f",
   "metadata": {},
   "outputs": [
    {
     "data": {
      "text/plain": [
       "False"
      ]
     },
     "execution_count": 15,
     "metadata": {},
     "output_type": "execute_result"
    }
   ],
   "source": [
    "df_train.isnull().values.any()"
   ]
  },
  {
   "cell_type": "code",
   "execution_count": 18,
   "id": "66580b27-15de-4c2a-aee3-412ccda77272",
   "metadata": {},
   "outputs": [],
   "source": [
    "len_abstracts = []\n",
    "for index, row in df_train.iterrows():\n",
    "    len_abstracts.append(len(row.medical_abstract))"
   ]
  },
  {
   "cell_type": "code",
   "execution_count": 21,
   "id": "111cfa1d-0553-4dc9-af57-54b8ed2fb659",
   "metadata": {},
   "outputs": [
    {
     "data": {
      "image/png": "[encoded data removed]",
      "text/plain": [
       "<Figure size 640x480 with 1 Axes>"
      ]
     },
     "metadata": {},
     "output_type": "display_data"
    }
   ],
   "source": [
    "sns.boxplot( y=len_abstracts);\n",
    "plt.title(\"Mean: \" + str(np.mean(len_abstracts)))\n",
    "plt.show()"
   ]
  },
  {
   "cell_type": "code",
   "execution_count": 9,
   "id": "dd6d9d61-9b5d-41f5-9152-e0f4d54e5c47",
   "metadata": {},
   "outputs": [
    {
     "data": {
      "text/html": [
       "<div>\n",
       "<style scoped>\n",
       "    .dataframe tbody tr th:only-of-type {\n",
       "        vertical-align: middle;\n",
       "    }\n",
       "\n",
       "    .dataframe tbody tr th {\n",
       "        vertical-align: top;\n",
       "    }\n",
       "\n",
       "    .dataframe thead th {\n",
       "        text-align: right;\n",
       "    }\n",
       "</style>\n",
       "<table border=\"1\" class=\"dataframe\">\n",
       "  <thead>\n",
       "    <tr style=\"text-align: right;\">\n",
       "      <th></th>\n",
       "      <th>condition_label</th>\n",
       "      <th>medical_abstract</th>\n",
       "    </tr>\n",
       "  </thead>\n",
       "  <tbody>\n",
       "    <tr>\n",
       "      <th>0</th>\n",
       "      <td>3</td>\n",
       "      <td>Obstructive sleep apnea following topical orop...</td>\n",
       "    </tr>\n",
       "    <tr>\n",
       "      <th>1</th>\n",
       "      <td>5</td>\n",
       "      <td>Neutrophil function and pyogenic infections in...</td>\n",
       "    </tr>\n",
       "    <tr>\n",
       "      <th>2</th>\n",
       "      <td>5</td>\n",
       "      <td>A phase II study of combined methotrexate and ...</td>\n",
       "    </tr>\n",
       "    <tr>\n",
       "      <th>3</th>\n",
       "      <td>1</td>\n",
       "      <td>Flow cytometric DNA analysis of parathyroid tu...</td>\n",
       "    </tr>\n",
       "    <tr>\n",
       "      <th>4</th>\n",
       "      <td>4</td>\n",
       "      <td>Paraneoplastic vasculitic neuropathy: a treata...</td>\n",
       "    </tr>\n",
       "    <tr>\n",
       "      <th>...</th>\n",
       "      <td>...</td>\n",
       "      <td>...</td>\n",
       "    </tr>\n",
       "    <tr>\n",
       "      <th>2883</th>\n",
       "      <td>4</td>\n",
       "      <td>Management of aortobronchial fistula with graf...</td>\n",
       "    </tr>\n",
       "    <tr>\n",
       "      <th>2884</th>\n",
       "      <td>5</td>\n",
       "      <td>Tuberculous psoas muscle abscess following che...</td>\n",
       "    </tr>\n",
       "    <tr>\n",
       "      <th>2885</th>\n",
       "      <td>4</td>\n",
       "      <td>Clinical evaluation of high-frequency (ultraso...</td>\n",
       "    </tr>\n",
       "    <tr>\n",
       "      <th>2886</th>\n",
       "      <td>1</td>\n",
       "      <td>Antitumor activity of liposome-encapsulated do...</td>\n",
       "    </tr>\n",
       "    <tr>\n",
       "      <th>2887</th>\n",
       "      <td>4</td>\n",
       "      <td>An unusual venous anomaly of the placenta. The...</td>\n",
       "    </tr>\n",
       "  </tbody>\n",
       "</table>\n",
       "<p>2888 rows × 2 columns</p>\n",
       "</div>"
      ],
      "text/plain": [
       "      condition_label                                   medical_abstract\n",
       "0                   3  Obstructive sleep apnea following topical orop...\n",
       "1                   5  Neutrophil function and pyogenic infections in...\n",
       "2                   5  A phase II study of combined methotrexate and ...\n",
       "3                   1  Flow cytometric DNA analysis of parathyroid tu...\n",
       "4                   4  Paraneoplastic vasculitic neuropathy: a treata...\n",
       "...               ...                                                ...\n",
       "2883                4  Management of aortobronchial fistula with graf...\n",
       "2884                5  Tuberculous psoas muscle abscess following che...\n",
       "2885                4  Clinical evaluation of high-frequency (ultraso...\n",
       "2886                1  Antitumor activity of liposome-encapsulated do...\n",
       "2887                4  An unusual venous anomaly of the placenta. The...\n",
       "\n",
       "[2888 rows x 2 columns]"
      ]
     },
     "execution_count": 9,
     "metadata": {},
     "output_type": "execute_result"
    }
   ],
   "source": [
    "df_test"
   ]
  },
  {
   "cell_type": "code",
   "execution_count": 14,
   "id": "628ed62e-5580-4403-b677-4d9a87e2d46f",
   "metadata": {},
   "outputs": [
    {
     "data": {
      "text/plain": [
       "5    8.320346\n",
       "1    5.480519\n",
       "4    5.281385\n",
       "3    3.333333\n",
       "2    2.588745\n",
       "Name: condition_label, dtype: float64"
      ]
     },
     "execution_count": 14,
     "metadata": {},
     "output_type": "execute_result"
    }
   ],
   "source": [
    "df_test[\"condition_label\"].value_counts()/df_train.shape[0]*100"
   ]
  },
  {
   "cell_type": "code",
   "execution_count": 16,
   "id": "a8b443ed-d57d-4af8-9bf2-81530bed525f",
   "metadata": {},
   "outputs": [
    {
     "data": {
      "text/plain": [
       "False"
      ]
     },
     "execution_count": 16,
     "metadata": {},
     "output_type": "execute_result"
    }
   ],
   "source": [
    "df_test.isnull().values.any()"
   ]
  },
  {
   "cell_type": "code",
   "execution_count": 22,
   "id": "724ada1f-6165-4744-b57d-c998b2264b77",
   "metadata": {},
   "outputs": [],
   "source": [
    "len_abstracts = []\n",
    "for index, row in df_test.iterrows():\n",
    "    len_abstracts.append(len(row.medical_abstract))"
   ]
  },
  {
   "cell_type": "code",
   "execution_count": 23,
   "id": "45ce6abc-fe59-47ce-9000-eab598a6cbe3",
   "metadata": {},
   "outputs": [
    {
     "data": {
      "image/png": "[encoded data removed]",
      "text/plain": [
       "<Figure size 640x480 with 1 Axes>"
      ]
     },
     "metadata": {},
     "output_type": "display_data"
    }
   ],
   "source": [
    "sns.boxplot( y=len_abstracts);\n",
    "plt.title(\"Mean: \" + str(np.mean(len_abstracts)))\n",
    "plt.show()"
   ]
  },
  {
   "cell_type": "code",
   "execution_count": 10,
   "id": "2a41152c-f337-47af-9297-41cba9a99066",
   "metadata": {},
   "outputs": [
    {
     "data": {
      "text/html": [
       "<div>\n",
       "<style scoped>\n",
       "    .dataframe tbody tr th:only-of-type {\n",
       "        vertical-align: middle;\n",
       "    }\n",
       "\n",
       "    .dataframe tbody tr th {\n",
       "        vertical-align: top;\n",
       "    }\n",
       "\n",
       "    .dataframe thead th {\n",
       "        text-align: right;\n",
       "    }\n",
       "</style>\n",
       "<table border=\"1\" class=\"dataframe\">\n",
       "  <thead>\n",
       "    <tr style=\"text-align: right;\">\n",
       "      <th></th>\n",
       "      <th>condition_label</th>\n",
       "      <th>condition_name</th>\n",
       "    </tr>\n",
       "  </thead>\n",
       "  <tbody>\n",
       "    <tr>\n",
       "      <th>0</th>\n",
       "      <td>1</td>\n",
       "      <td>neoplasms</td>\n",
       "    </tr>\n",
       "    <tr>\n",
       "      <th>1</th>\n",
       "      <td>2</td>\n",
       "      <td>digestive system diseases</td>\n",
       "    </tr>\n",
       "    <tr>\n",
       "      <th>2</th>\n",
       "      <td>3</td>\n",
       "      <td>nervous system diseases</td>\n",
       "    </tr>\n",
       "    <tr>\n",
       "      <th>3</th>\n",
       "      <td>4</td>\n",
       "      <td>cardiovascular diseases</td>\n",
       "    </tr>\n",
       "    <tr>\n",
       "      <th>4</th>\n",
       "      <td>5</td>\n",
       "      <td>general pathological conditions</td>\n",
       "    </tr>\n",
       "  </tbody>\n",
       "</table>\n",
       "</div>"
      ],
      "text/plain": [
       "   condition_label                   condition_name\n",
       "0                1                        neoplasms\n",
       "1                2        digestive system diseases\n",
       "2                3          nervous system diseases\n",
       "3                4          cardiovascular diseases\n",
       "4                5  general pathological conditions"
      ]
     },
     "execution_count": 10,
     "metadata": {},
     "output_type": "execute_result"
    }
   ],
   "source": [
    "df_labels"
   ]
  },
  {
   "cell_type": "markdown",
   "id": "15530703-ff9d-4f41-a2c7-0d2d31a66896",
   "metadata": {},
   "source": [
    "# Preprocessing "
   ]
  },
  {
   "cell_type": "code",
   "execution_count": null,
   "id": "e736366d-95de-40e7-ad75-5ba0e2fcf0a9",
   "metadata": {},
   "outputs": [],
   "source": []
  },
  {
   "cell_type": "markdown",
   "id": "b5bca3e5-6cba-40b2-bfbd-3d69f5d6059a",
   "metadata": {},
   "source": [
    "# Document representation"
   ]
  },
  {
   "cell_type": "code",
   "execution_count": null,
   "id": "df1b4bca-7096-435f-a886-3a08540c64af",
   "metadata": {},
   "outputs": [],
   "source": []
  },
  {
   "cell_type": "markdown",
   "id": "8818cf27-e636-4e7c-9f63-5a20b11415a2",
   "metadata": {},
   "source": [
    "# Classification"
   ]
  },
  {
   "cell_type": "code",
   "execution_count": null,
   "id": "ad7d7e64-19f1-4b46-a552-75a4f6224702",
   "metadata": {},
   "outputs": [],
   "source": []
  },
  {
   "cell_type": "markdown",
   "id": "39135cd6-9872-438d-85bb-abc2e43aaff6",
   "metadata": {},
   "source": [
    "# Clustering"
   ]
  },
  {
   "cell_type": "code",
   "execution_count": null,
   "id": "e6e0c37d-4411-49e6-80be-c61c15bc8398",
   "metadata": {},
   "outputs": [],
   "source": []
  }
 ],
 "metadata": {
  "kernelspec": {
   "display_name": "Python 3 (ipykernel)",
   "language": "python",
   "name": "python3"
  },
  "language_info": {
   "codemirror_mode": {
    "name": "ipython",
    "version": 3
   },
   "file_extension": ".py",
   "mimetype": "text/x-python",
   "name": "python",
   "nbconvert_exporter": "python",
   "pygments_lexer": "ipython3",
   "version": "3.10.11"
  }
 },
 "nbformat": 4,
 "nbformat_minor": 5
}
